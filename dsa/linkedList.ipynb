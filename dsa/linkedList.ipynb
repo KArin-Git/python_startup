{
 "cells": [
  {
   "cell_type": "code",
   "execution_count": 9,
   "id": "90408fa2-a437-482f-8ed9-7c8f28e6b1d3",
   "metadata": {},
   "outputs": [
    {
     "name": "stdout",
     "output_type": "stream",
     "text": [
      "1\n",
      "2\n",
      "<__main__.Node object at 0x122116e50>\n",
      "<__main__.Node object at 0x122123d10>\n",
      "None\n"
     ]
    }
   ],
   "source": [
    "class Node:\n",
    "    def __init__(self, value):\n",
    "        self.value = value\n",
    "        self.next = None\n",
    "\n",
    "class LinkedList:\n",
    "    def __init__(self, value):\n",
    "        new_node = Node(value)\n",
    "        self.head = new_node\n",
    "        self.tail = new_node\n",
    "        self.length = 1\n",
    "    def print_list(self):\n",
    "        temp = self.head\n",
    "        while temp is not None:\n",
    "            print(temp.value)\n",
    "            temp = temp.next\n",
    "    def append(self,value):\n",
    "        new_node = Node(value)\n",
    "        if self.head is None:\n",
    "            self.head = new_node\n",
    "            self.tail = new_node\n",
    "        else:\n",
    "            self.tail.next = new_node\n",
    "            self.tail = new_node\n",
    "        self.length += 1\n",
    "        return True\n",
    "    def pop(self):\n",
    "        # base case no Node\n",
    "        if self.head is None:\n",
    "            return None\n",
    "        # base case 1 Node\n",
    "        temp = self.head\n",
    "        pre = self.head\n",
    "        if self.head == self.tail:\n",
    "            self.head = None\n",
    "            self.tail = None\n",
    "            self.length -= 1\n",
    "        else:\n",
    "            # loop until we find self.head = None\n",
    "            while (temp.next): # temp.next is not None\n",
    "                pre = temp\n",
    "                temp = temp.next\n",
    "            self.tail = pre\n",
    "            self.tail.next = None\n",
    "            self.length -= 1\n",
    "        return temp # return temp.value > for testing purpose\n",
    "                \n",
    "\n",
    "my_linked_list = LinkedList(1)\n",
    "my_linked_list.append(2)\n",
    "my_linked_list.print_list() # 1 2\n",
    "print(my_linked_list.pop()) # 2 node\n",
    "print(my_linked_list.pop()) # 1 node\n",
    "print(my_linked_list.pop()) # None"
   ]
  },
  {
   "cell_type": "code",
   "execution_count": null,
   "id": "8d095c92-2764-408d-abae-c7a7bb03c1e3",
   "metadata": {},
   "outputs": [],
   "source": []
  }
 ],
 "metadata": {
  "kernelspec": {
   "display_name": "Python 3 (ipykernel)",
   "language": "python",
   "name": "python3"
  },
  "language_info": {
   "codemirror_mode": {
    "name": "ipython",
    "version": 3
   },
   "file_extension": ".py",
   "mimetype": "text/x-python",
   "name": "python",
   "nbconvert_exporter": "python",
   "pygments_lexer": "ipython3",
   "version": "3.11.2"
  }
 },
 "nbformat": 4,
 "nbformat_minor": 5
}
