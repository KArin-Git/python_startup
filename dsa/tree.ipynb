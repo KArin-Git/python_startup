{
 "cells": [
  {
   "cell_type": "code",
   "execution_count": null,
   "metadata": {},
   "outputs": [
    {
     "name": "stdout",
     "output_type": "stream",
     "text": [
      "2\n",
      "1\n",
      "3\n"
     ]
    }
   ],
   "source": [
    "class Node:\n",
    "    def __init__(self, value):\n",
    "        self.value = value\n",
    "        self.left = None\n",
    "        self.right = None\n",
    "\n",
    "class BinarySearchTree:\n",
    "    # create empty tree\n",
    "    def __init__(self):\n",
    "        self.root = None\n",
    "\n",
    "    def insert(self, value):\n",
    "        new_node = Node(value)\n",
    "        # case empty tree\n",
    "        if self.root is None:\n",
    "            self.root = new_node\n",
    "            return True\n",
    "        tmp = self.root\n",
    "        # while as we don't know the end\n",
    "        while(True):\n",
    "            # cannot have dup node value\n",
    "            if new_node.value == tmp.value:\n",
    "                return False\n",
    "            # if < left, else > right\n",
    "            if new_node.value < tmp.value:\n",
    "                # if None insert new_node, else move to next\n",
    "                if tmp.left is None:\n",
    "                    tmp.left = new_node\n",
    "                    return True\n",
    "                tmp = tmp.left\n",
    "            else:\n",
    "                if tmp.right is None:\n",
    "                    tmp.right = new_node\n",
    "                    return True\n",
    "                tmp = tmp.right\n",
    "\n",
    "my_tree = BinarySearchTree()\n",
    "my_tree.insert(2)\n",
    "my_tree.insert(1)\n",
    "my_tree.insert(3)\n",
    "print(my_tree.root.value) # 2\n",
    "print(my_tree.root.left.value) # 1\n",
    "print(my_tree.root.right.value) # 3"
   ]
  },
  {
   "cell_type": "code",
   "execution_count": null,
   "metadata": {},
   "outputs": [],
   "source": []
  }
 ],
 "metadata": {
  "kernelspec": {
   "display_name": "Python 3",
   "language": "python",
   "name": "python3"
  },
  "language_info": {
   "codemirror_mode": {
    "name": "ipython",
    "version": 3
   },
   "file_extension": ".py",
   "mimetype": "text/x-python",
   "name": "python",
   "nbconvert_exporter": "python",
   "pygments_lexer": "ipython3",
   "version": "3.11.2"
  }
 },
 "nbformat": 4,
 "nbformat_minor": 2
}
