{
 "cells": [
  {
   "cell_type": "code",
   "execution_count": null,
   "metadata": {},
   "outputs": [
    {
     "name": "stdout",
     "output_type": "stream",
     "text": [
      "True\n",
      "False\n"
     ]
    }
   ],
   "source": [
    "class Node:\n",
    "    def __init__(self, value):\n",
    "        self.value = value\n",
    "        self.left = None\n",
    "        self.right = None\n",
    "\n",
    "class BinarySearchTree:\n",
    "    # create empty tree\n",
    "    def __init__(self):\n",
    "        self.root = None\n",
    "\n",
    "    def insert(self, value):\n",
    "        new_node = Node(value)\n",
    "        # case empty tree\n",
    "        if self.root is None:\n",
    "            self.root = new_node\n",
    "            return True\n",
    "        tmp = self.root\n",
    "        # while as we don't know the end\n",
    "        while(True):\n",
    "            # cannot have dup node value\n",
    "            if new_node.value == tmp.value:\n",
    "                return False\n",
    "            # if < left, else > right\n",
    "            if new_node.value < tmp.value:\n",
    "                # if None insert new_node, else move to next\n",
    "                if tmp.left is None:\n",
    "                    tmp.left = new_node\n",
    "                    return True\n",
    "                tmp = tmp.left\n",
    "            else:\n",
    "                if tmp.right is None:\n",
    "                    tmp.right = new_node\n",
    "                    return True\n",
    "                tmp = tmp.right\n",
    "    \n",
    "    def contain(self, value):\n",
    "        # if self.root is None:\n",
    "            # return False\n",
    "        tmp = self.root\n",
    "        while tmp is not None:\n",
    "            if value < tmp.value:\n",
    "                tmp = tmp.left\n",
    "            elif value > tmp.value:\n",
    "                tmp = tmp.right\n",
    "            else:\n",
    "                return True\n",
    "        return False\n",
    "\n",
    "my_tree = BinarySearchTree()\n",
    "my_tree.insert(47)\n",
    "my_tree.insert(21)\n",
    "my_tree.insert(76)\n",
    "my_tree.insert(18)\n",
    "my_tree.insert(27)\n",
    "my_tree.insert(52)\n",
    "my_tree.insert(82)\n",
    "\n",
    "print(my_tree.contain(27)) # True\n",
    "print(my_tree.contain(17)) # False"
   ]
  }
 ],
 "metadata": {
  "kernelspec": {
   "display_name": "Python 3",
   "language": "python",
   "name": "python3"
  },
  "language_info": {
   "codemirror_mode": {
    "name": "ipython",
    "version": 3
   },
   "file_extension": ".py",
   "mimetype": "text/x-python",
   "name": "python",
   "nbconvert_exporter": "python",
   "pygments_lexer": "ipython3",
   "version": "3.11.2"
  }
 },
 "nbformat": 4,
 "nbformat_minor": 2
}
