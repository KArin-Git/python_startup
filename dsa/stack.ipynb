{
 "cells": [
  {
   "cell_type": "code",
   "execution_count": 8,
   "metadata": {},
   "outputs": [
    {
     "name": "stdout",
     "output_type": "stream",
     "text": [
      "the value of pop 8\n"
     ]
    }
   ],
   "source": [
    "class Node:\n",
    "    def __init__(self, value):\n",
    "        self.value = value\n",
    "        self.next = None\n",
    "\n",
    "class Stack:\n",
    "    def __init__(self, value):\n",
    "        new_node = Node(value)\n",
    "        self.top = new_node\n",
    "        self.height = 1\n",
    "\n",
    "    def print_stack(self):\n",
    "        tmp = self.top\n",
    "        while tmp:\n",
    "            print(tmp.value)\n",
    "            tmp = tmp.next\n",
    "\n",
    "    def push(self, value):\n",
    "        new_node = Node(value)\n",
    "        if self.height == 0:\n",
    "            self.top = new_node\n",
    "        else:\n",
    "            new_node.next = self.top\n",
    "            self.top = new_node\n",
    "        self.height += 1\n",
    "    \n",
    "    def pop(self):\n",
    "        if self.height == 0:\n",
    "            return None\n",
    "        tmp = self.top\n",
    "        self.top = self.top.next\n",
    "        tmp.next = None\n",
    "        self.height -= 1\n",
    "        return tmp\n",
    "\n",
    "my_stack = Stack(4)\n",
    "my_stack.push(5)\n",
    "my_stack.push(6)\n",
    "my_stack.push(7)\n",
    "my_stack.push(8)\n",
    "print(f\"the value of pop {my_stack.pop().value}\")"
   ]
  },
  {
   "cell_type": "code",
   "execution_count": null,
   "metadata": {},
   "outputs": [],
   "source": []
  }
 ],
 "metadata": {
  "kernelspec": {
   "display_name": "Python 3",
   "language": "python",
   "name": "python3"
  },
  "language_info": {
   "codemirror_mode": {
    "name": "ipython",
    "version": 3
   },
   "file_extension": ".py",
   "mimetype": "text/x-python",
   "name": "python",
   "nbconvert_exporter": "python",
   "pygments_lexer": "ipython3",
   "version": "3.11.2"
  }
 },
 "nbformat": 4,
 "nbformat_minor": 2
}
