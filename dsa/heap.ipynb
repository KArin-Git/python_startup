{
 "cells": [
  {
   "cell_type": "code",
   "execution_count": null,
   "id": "ae10fad1",
   "metadata": {},
   "outputs": [
    {
     "name": "stdout",
     "output_type": "stream",
     "text": [
      "[99, 72, 61, 58]\n",
      "[100, 99, 61, 58, 72]\n",
      "[100, 99, 75, 58, 72, 61]\n"
     ]
    }
   ],
   "source": [
    "class MaxHeap:\n",
    "    def __init__(self):\n",
    "        self.heap = []\n",
    "\n",
    "    def _left_child(self, idx):\n",
    "        return 2 * idx + 1\n",
    "    \n",
    "    def _right_child(self, idx):\n",
    "        return 2 * idx + 2\n",
    "    \n",
    "    def _parent(self, idx):\n",
    "        return (idx - 1) // 2\n",
    "    \n",
    "    def _swap(self, idx1, idx2):\n",
    "        self.heap[idx1], self.heap[idx2] = self.heap[idx2], self.heap[idx1]\n",
    "\n",
    "    def insert(self, value):\n",
    "        self.heap.append(value)\n",
    "        current = len(self.heap) - 1\n",
    "        while current > 0 and self.heap[current] > self.heap[self._parent(current)]:\n",
    "            self._swap(current, self._parent(current))\n",
    "            current = self._parent(current)\n",
    "\n",
    "    def remove(self):\n",
    "        if len(self.heap) == 0:\n",
    "            return None\n",
    "        \n",
    "        if len(self.heap) == 1:\n",
    "            return self.heap.pop()\n",
    "        \n",
    "        max_value = self.heap[0]\n",
    "        self.heap[0] = self.heap.pop()\n",
    "        self._sink_down(0)\n",
    "        return max_value\n",
    "    \n",
    "    def _sink_down(self, idx):\n",
    "        pass\n",
    "\n",
    "myheap = MaxHeap()\n",
    "myheap.insert(99)\n",
    "myheap.insert(72)\n",
    "myheap.insert(61)\n",
    "myheap.insert(58)\n",
    "\n",
    "print(myheap.heap)\n",
    "\n",
    "myheap.insert(100)\n",
    "print(myheap.heap)\n",
    "\n",
    "myheap.insert(75)\n",
    "print(myheap.heap)"
   ]
  },
  {
   "cell_type": "code",
   "execution_count": null,
   "id": "c3f79831",
   "metadata": {},
   "outputs": [],
   "source": []
  }
 ],
 "metadata": {
  "kernelspec": {
   "display_name": "Python 3",
   "language": "python",
   "name": "python3"
  },
  "language_info": {
   "codemirror_mode": {
    "name": "ipython",
    "version": 3
   },
   "file_extension": ".py",
   "mimetype": "text/x-python",
   "name": "python",
   "nbconvert_exporter": "python",
   "pygments_lexer": "ipython3",
   "version": "3.11.2"
  }
 },
 "nbformat": 4,
 "nbformat_minor": 5
}
