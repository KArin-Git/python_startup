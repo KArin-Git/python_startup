{
 "cells": [
  {
   "cell_type": "code",
   "execution_count": null,
   "id": "ae10fad1",
   "metadata": {},
   "outputs": [],
   "source": [
    "class MaxHeap:\n",
    "    def __init__(self):\n",
    "        self.heap = []\n",
    "\n",
    "    def _left_child(self, idx):\n",
    "        return 2 * idx + 1\n",
    "    \n",
    "    def _right_child(self, idx):\n",
    "        return 2 * idx + 2\n",
    "    \n",
    "    def _parent(self, idx):\n",
    "        return (idx - 1) // 2\n",
    "    \n",
    "    def _swap(self, idx1, idx2):\n",
    "        self.heap[idx1], self.heap[idx2] = self.heap[idx2], self.heap[idx1]"
   ]
  }
 ],
 "metadata": {
  "language_info": {
   "name": "python"
  }
 },
 "nbformat": 4,
 "nbformat_minor": 5
}
