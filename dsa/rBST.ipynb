{
 "cells": [
  {
   "cell_type": "code",
   "execution_count": 1,
   "id": "ab8bb66a",
   "metadata": {},
   "outputs": [
    {
     "name": "stdout",
     "output_type": "stream",
     "text": [
      "BST Contains 27:\n",
      "True\n",
      "\n",
      "BST Contains 17:\n",
      "False\n"
     ]
    },
    {
     "data": {
      "text/plain": [
       "'\\n    EXPECTED OUTPUT:\\n    ----------------\\n    BST Contains 27:\\n    True\\n\\n    BST Contains 17:\\n    False\\n\\n'"
      ]
     },
     "execution_count": 1,
     "metadata": {},
     "output_type": "execute_result"
    }
   ],
   "source": [
    "class Node:\n",
    "    def __init__(self, value):\n",
    "        self.value = value\n",
    "        self.left = None\n",
    "        self.right = None\n",
    "        \n",
    "\n",
    "class BinarySearchTree:\n",
    "    def __init__(self):\n",
    "        self.root = None\n",
    "\n",
    "    def insert(self, value):\n",
    "        new_node = Node(value)\n",
    "        if self.root is None:\n",
    "            self.root = new_node\n",
    "            return True\n",
    "        temp = self.root\n",
    "        while (True):\n",
    "            if new_node.value == temp.value:\n",
    "                return False\n",
    "            if new_node.value < temp.value:\n",
    "                if temp.left is None:\n",
    "                    temp.left = new_node\n",
    "                    return True\n",
    "                temp = temp.left\n",
    "            else: \n",
    "                if temp.right is None:\n",
    "                    temp.right = new_node\n",
    "                    return True\n",
    "                temp = temp.right\n",
    "\n",
    "    def contains(self, value):\n",
    "        temp = self.root\n",
    "        while (temp is not None):\n",
    "            if value < temp.value:\n",
    "                temp = temp.left\n",
    "            elif value > temp.value:\n",
    "                temp = temp.right\n",
    "            else:\n",
    "                return True\n",
    "        return False\n",
    "        \n",
    "    def __r_contains(self, current_node, value):\n",
    "        if current_node == None: \n",
    "            return False      \n",
    "        if value == current_node.value:\n",
    "            return True \n",
    "        if value < current_node.value:\n",
    "            return self.__r_contains(current_node.left, value) \n",
    "        if value > current_node.value:\n",
    "            return self.__r_contains(current_node.right, value)\n",
    "\n",
    "\n",
    "    def r_contains(self, value):\n",
    "        return self.__r_contains(self.root, value)\n",
    "        \n",
    "\n",
    "\n",
    "\n",
    "my_tree = BinarySearchTree()\n",
    "my_tree.insert(47)\n",
    "my_tree.insert(21)\n",
    "my_tree.insert(76)\n",
    "my_tree.insert(18)\n",
    "my_tree.insert(27)\n",
    "my_tree.insert(52)\n",
    "my_tree.insert(82)\n",
    "\n",
    "print('BST Contains 27:')\n",
    "print(my_tree.r_contains(27))\n",
    "\n",
    "print('\\nBST Contains 17:')\n",
    "print(my_tree.r_contains(17))\n",
    "                \n",
    "\n",
    "\n",
    "\"\"\"\n",
    "    EXPECTED OUTPUT:\n",
    "    ----------------\n",
    "    BST Contains 27:\n",
    "    True\n",
    "\n",
    "    BST Contains 17:\n",
    "    False\n",
    "\n",
    "\"\"\""
   ]
  }
 ],
 "metadata": {
  "kernelspec": {
   "display_name": "Python 3",
   "language": "python",
   "name": "python3"
  },
  "language_info": {
   "codemirror_mode": {
    "name": "ipython",
    "version": 3
   },
   "file_extension": ".py",
   "mimetype": "text/x-python",
   "name": "python",
   "nbconvert_exporter": "python",
   "pygments_lexer": "ipython3",
   "version": "3.11.2"
  }
 },
 "nbformat": 4,
 "nbformat_minor": 5
}
